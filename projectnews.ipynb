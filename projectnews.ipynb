{
 "cells": [
  {
   "cell_type": "code",
   "execution_count": null,
   "id": "9536718a-44f1-4ae2-abdf-3c42e5cb5aad",
   "metadata": {},
   "outputs": [
    {
     "name": "stderr",
     "output_type": "stream",
     "text": [
      "[nltk_data] Downloading package stopwords to\n",
      "[nltk_data]     C:\\Users\\Vaishnavi\\AppData\\Roaming\\nltk_data...\n",
      "[nltk_data]   Package stopwords is already up-to-date!\n"
     ]
    },
    {
     "name": "stdout",
     "output_type": "stream",
     "text": [
      "✅ Dataset loaded: (2225, 2)\n",
      "                                             article     label\n",
      "0  China had role in Yukos split-up\\n \\n China le...  business\n",
      "1  Oil rebounds from weather effect\\n \\n Oil pric...  business\n",
      "2  Indonesia 'declines debt freeze'\\n \\n Indonesi...  business\n",
      "3  $1m payoff for former Shell boss\\n \\n Shell is...  business\n",
      "4  US bank in $515m SEC settlement\\n \\n Five Bank...  business\n",
      "✅ Accuracy: 0.9662921348314607\n",
      "\n",
      "🔍 Classification Report:\n",
      "                precision    recall  f1-score   support\n",
      "\n",
      "     business       0.98      0.96      0.97       115\n",
      "entertainment       0.97      0.93      0.95        72\n",
      "     politics       0.92      1.00      0.96        76\n",
      "        sport       0.98      1.00      0.99       102\n",
      "         tech       0.97      0.94      0.96        80\n",
      "\n",
      "     accuracy                           0.97       445\n",
      "    macro avg       0.96      0.96      0.96       445\n",
      " weighted avg       0.97      0.97      0.97       445\n",
      "\n"
     ]
    },
    {
     "data": {
      "image/png": "[encoded data removed]",
      "text/plain": [
       "<Figure size 1000x600 with 2 Axes>"
      ]
     },
     "metadata": {},
     "output_type": "display_data"
    },
    {
     "name": "stdin",
     "output_type": "stream",
     "text": [
      "\n",
      "🔎 Enter a news article (or type 'exit' to quit):\n",
      " honda\n"
     ]
    },
    {
     "name": "stdout",
     "output_type": "stream",
     "text": [
      "📌 Predicted Category: sport\n"
     ]
    },
    {
     "name": "stdin",
     "output_type": "stream",
     "text": [
      "\n",
      "🔎 Enter a news article (or type 'exit' to quit):\n",
      " home\n"
     ]
    },
    {
     "name": "stdout",
     "output_type": "stream",
     "text": [
      "📌 Predicted Category: politics\n"
     ]
    }
   ],
   "source": [
    "# Step 1: Import Libraries\n",
    "import pandas as pd\n",
    "import numpy as np\n",
    "import matplotlib.pyplot as plt\n",
    "import seaborn as sns\n",
    "import nltk\n",
    "import re\n",
    "import string\n",
    "\n",
    "from nltk.corpus import stopwords\n",
    "from sklearn.feature_extraction.text import TfidfVectorizer\n",
    "from sklearn.model_selection import train_test_split\n",
    "from sklearn.naive_bayes import MultinomialNB\n",
    "from sklearn.metrics import classification_report, accuracy_score, confusion_matrix\n",
    "\n",
    "# Step 2: Download NLTK Stopwords\n",
    "nltk.download('stopwords')\n",
    "stop_words = set(stopwords.words('english'))\n",
    "\n",
    "# Step 3: Load Dataset\n",
    "df = pd.read_csv('fakenewclassification.csv', encoding='latin1', header=0)\n",
    "df = df[['article', 'label']]  # ✅ Use correct column names\n",
    "df.dropna(inplace=True)\n",
    "print(\"✅ Dataset loaded:\", df.shape)\n",
    "print(df.head())\n",
    "\n",
    "# Step 4: Text Cleaning Function\n",
    "def clean_text(text):\n",
    "    text = str(text).lower()\n",
    "    text = re.sub(r'\\d+', '', text)  # Remove digits\n",
    "    text = text.translate(str.maketrans('', '', string.punctuation))  # Remove punctuation\n",
    "    text = text.strip()\n",
    "    text = ' '.join([word for word in text.split() if word not in stop_words])  # Remove stopwords\n",
    "    return text\n",
    "\n",
    "df['clean_text'] = df['article'].apply(clean_text)\n",
    "\n",
    "# Step 5: Vectorization using TF-IDF\n",
    "vectorizer = TfidfVectorizer(max_features=5000)\n",
    "X = vectorizer.fit_transform(df['clean_text'])\n",
    "y = df['label']\n",
    "\n",
    "# Step 6: Train-Test Split\n",
    "X_train, X_test, y_train, y_test = train_test_split(X, y, test_size=0.2, random_state=42)\n",
    "\n",
    "# Step 7: Model Training\n",
    "model = MultinomialNB()\n",
    "model.fit(X_train, y_train)\n",
    "\n",
    "# Step 8: Prediction and Evaluation\n",
    "y_pred = model.predict(X_test)\n",
    "\n",
    "print(\"✅ Accuracy:\", accuracy_score(y_test, y_pred))\n",
    "print(\"\\n🔍 Classification Report:\\n\", classification_report(y_test, y_pred))\n",
    "\n",
    "# Step 9: Confusion Matrix Visualization\n",
    "plt.figure(figsize=(10, 6))\n",
    "sns.heatmap(confusion_matrix(y_test, y_pred), annot=True, fmt='d', cmap='YlGnBu')\n",
    "plt.title(\"Confusion Matrix\")\n",
    "plt.xlabel(\"Predicted\")\n",
    "plt.ylabel(\"Actual\")\n",
    "plt.show()\n",
    "\n",
    "# Step 10: Function to Predict User Input\n",
    "def predict_category(text_input):\n",
    "    cleaned = clean_text(text_input)\n",
    "    vectorized = vectorizer.transform([cleaned])\n",
    "    prediction = model.predict(vectorized)[0]\n",
    "    return prediction\n",
    "\n",
    "# Step 11: User Input Loop\n",
    "while True:\n",
    "    user_input = input(\"\\n🔎 Enter a news article (or type 'exit' to quit):\\n\")\n",
    "    if user_input.lower() == 'exit':\n",
    "        print(\"👋 Exiting...\")\n",
    "        break\n",
    "    prediction = predict_category(user_input)\n",
    "    print(\"📌 Predicted Category:\", prediction)\n"
   ]
  },
  {
   "cell_type": "code",
   "execution_count": null,
   "id": "748be185-ae8b-4841-9f94-bb2998e3943b",
   "metadata": {},
   "outputs": [],
   "source": []
  },
  {
   "cell_type": "code",
   "execution_count": null,
   "id": "c95eb492-d0a2-4483-afb0-8b5b8eb2426a",
   "metadata": {},
   "outputs": [],
   "source": []
  }
 ],
 "metadata": {
  "kernelspec": {
   "display_name": "Python 3 (ipykernel)",
   "language": "python",
   "name": "python3"
  },
  "language_info": {
   "codemirror_mode": {
    "name": "ipython",
    "version": 3
   },
   "file_extension": ".py",
   "mimetype": "text/x-python",
   "name": "python",
   "nbconvert_exporter": "python",
   "pygments_lexer": "ipython3",
   "version": "3.9.0"
  }
 },
 "nbformat": 4,
 "nbformat_minor": 5
}
